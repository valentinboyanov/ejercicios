{
 "cells": [
  {
   "cell_type": "code",
   "execution_count": 1,
   "metadata": {},
   "outputs": [],
   "source": [
    "import numpy as np"
   ]
  },
  {
   "cell_type": "markdown",
   "metadata": {},
   "source": [
    "## Métodos de Monte Carlo\n",
    "\n",
    "Cuando tenemos preguntas sobre procesos, y tenemos modelos de mecanismo de un proceso, podemos usar [métodos de Monte Carlo](https://en.wikipedia.org/wiki/Monte_Carlo_method) para responderlas. Esto es extremadamente potente si ya sabes programar: hay muchas preguntas cuantitativas que son muy fáciles de formular y resolver como un experimento de Monte Carlo, pero muy difíciles de resolver de forma analítica.\n",
    "\n",
    "### Ejemplo introductorio\n",
    "\n",
    "Estamos jugando a cara o cruz con una moneda trucada. La moneda tiene la siguiente distribución de probabilidad:\n",
    "```\n",
    "cara: 0.6\n",
    "cruz: 0.4\n",
    "```\n",
    "\n",
    "Si sale cruz ganas, si sale cara pierdes.\n",
    "\n",
    "##### Pregunta 0\n",
    "\n",
    "**¿Qué proporción de las veces ganas?**\n",
    "\n",
    "Esta respuesta la podemos calcular trivialmente de forma analítica: `0.4`, que es simplemente la proporción de cruces esperada. Pero vamos a calcularla vía un experimento de Monte Carlo para romper mano. \n",
    "\n",
    "Llevamos a cabo \"muchas\" simulaciones de la tirada, y calculamos la proporción de cruces:"
   ]
  },
  {
   "cell_type": "code",
   "execution_count": 2,
   "metadata": {},
   "outputs": [
    {
     "name": "stdout",
     "output_type": "stream",
     "text": [
      "0.39668 error:  0.003320000000000045\n",
      "0.40504 error:  0.005039999999999989\n",
      "0.40236 error:  0.0023599999999999732\n"
     ]
    }
   ],
   "source": [
    "def estimate_win_proportion(num_trials: int) -> float:\n",
    "    \"\"\"\n",
    "    cara: 0\n",
    "    cruz: 1\n",
    "    \n",
    "    This simulates num_trials coin tosses and calculates num_cruces / total_tosses\n",
    "    \"\"\"\n",
    "    trials = []\n",
    "    \n",
    "    for i in range(num_trials):\n",
    "        if np.random.random() <= 0.4:\n",
    "            trials.append(1)\n",
    "        else:\n",
    "            trials.append(0)\n",
    "            \n",
    "    return sum(trials) / len(trials)\n",
    "\n",
    "for i in range(3):\n",
    "    proportion_estimate = estimate_win_proportion(50000)\n",
    "    print(proportion_estimate, \"error: \", abs(0.4 - proportion_estimate))"
   ]
  },
  {
   "cell_type": "markdown",
   "metadata": {},
   "source": [
    "Vemos que, efectivamente, la simulación de Monte Carlo nos da respuestas cercanas a la respuesta exacta, aunque en este caso sería más fácil calcular la proporción directamente."
   ]
  },
  {
   "cell_type": "markdown",
   "metadata": {},
   "source": [
    "##### Pregunta 1\n",
    "\n",
    "Usamos la moneda en un juego con las siguientes reglas: la moneda se tira 2 veces, y dependiendo del número de cruces ganas (o pierdes) las siguientes cantidades:\n",
    "\n",
    "| numero cruces | euros |\n",
    "| ------------- | ----- |\n",
    "| 0 | -2 |\n",
    "| 1 | 0.5 |\n",
    "| 2 | 1 |\n",
    "\n",
    "**¿Cuál es [la media](https://en.wikipedia.org/wiki/Expected_value) de euros ganados (o perdidos) por partida si juegas a este juego con la moneda trucada?**"
   ]
  },
  {
   "cell_type": "markdown",
   "metadata": {},
   "source": [
    "Esto también lo podemos calcular de forma analítica usando la [distribución binomial](https://en.wikipedia.org/wiki/Binomial_distribution), pero en este caso ya tenemos que saber más matemáticas:\n",
    "\n",
    "$$\n",
    "expected\\_euros = -2 \\cdot \\binom{2}{0}0.6^{2} + 0.5 \\cdot \\binom{2}{1} 0.4 \\cdot 0.6 + \\binom{2}{2} 0.4 ^ 2\n",
    "$$"
   ]
  },
  {
   "cell_type": "code",
   "execution_count": 3,
   "metadata": {},
   "outputs": [
    {
     "name": "stdout",
     "output_type": "stream",
     "text": [
      "-0.31999999999999995\n"
     ]
    }
   ],
   "source": [
    "exact_expected_euros = -2 * 1 * (0.6 ** 2) + 0.5 * 2 * (0.4 * 0.6) + 1 * 1 * (0.4 ** 2)\n",
    "print(exact_expected_euros)"
   ]
  },
  {
   "cell_type": "markdown",
   "metadata": {},
   "source": [
    "Si sabemos programar pero no usamos mucho las matemáticas en el día a día, igual es más fácil simularlo directamente que hacer el cálculo analítico:"
   ]
  },
  {
   "cell_type": "code",
   "execution_count": 4,
   "metadata": {},
   "outputs": [
    {
     "name": "stdout",
     "output_type": "stream",
     "text": [
      "-0.3302 error:  0.010200000000000042\n",
      "-0.31169 error:  0.008309999999999929\n",
      "-0.31771 error:  0.0022899999999999587\n"
     ]
    }
   ],
   "source": [
    "def one_game() -> int:\n",
    "    \"\"\"\n",
    "    This simulates a single game: a coin is tossed twice, the number of cruces is returned.\n",
    "    \"\"\"\n",
    "    cruz_count = 0\n",
    "    \n",
    "    for i in range(2):\n",
    "        if np.random.random() <= 0.4:\n",
    "            cruz_count += 1\n",
    "    return cruz_count\n",
    "\n",
    "def average_euros(num_trials: int) -> float:\n",
    "    \"\"\"\n",
    "    This simulates num_trials games and calculates total_euros / num_trials\n",
    "    \"\"\"\n",
    "    \n",
    "    euros = []\n",
    "    for i in range(num_trials):\n",
    "        cruz_count = one_game()\n",
    "        if cruz_count == 0:\n",
    "            euros.append(-2)\n",
    "        elif cruz_count == 1:\n",
    "            euros.append(0.5)\n",
    "        else:\n",
    "            euros.append(1)\n",
    "            \n",
    "    return sum(euros) / len(euros)\n",
    "    \n",
    "    \n",
    "for i in range(3):\n",
    "    estimated_expected_euros = average_euros(50000)\n",
    "    print(estimated_expected_euros, \"error: \", abs(estimated_expected_euros - exact_expected_euros))\n",
    "    "
   ]
  },
  {
   "cell_type": "markdown",
   "metadata": {},
   "source": [
    "### Preguntas de calentamiento\n",
    "\n",
    "Consideramos un juego con 2 dados de 6 caras: el dado `a` es justo, el dado `b` tiene un sesgo que hace que aparezca más veces el 6 que los otros números, la tabla siguiente da las probabilidades:\n",
    "\n",
    "| dado | 1 | 2 | 3 | 4 | 5 | 6 |\n",
    "| ---- | - | - | - | - | - | - |\n",
    "| a | 1/6 | 1/6 | 1/6 | 1/6 | 1/6 | 1/6 |\n",
    "| b | 1/12 | 1/12 | 1/12 | 1/12 | 1/12 | 7/12 |\n",
    "\n",
    "Consideramos la suma resultante de tirar `a` y `b` y sumarlos.\n",
    "\n",
    "#### Pregunta 1\n",
    "\n",
    "Jugamos a un juego en el que el jugador gana si saca más de un 8 y pierde si saca menos.\n",
    "\n",
    "**¿Qué proporción de las veces esperas ganar si juegas a este juego con los dados a y b?**"
   ]
  },
  {
   "cell_type": "markdown",
   "metadata": {},
   "source": [
    "#### Pregunta 2\n",
    "\n",
    "Pintar histogramas del resultado de las sumas de estos dados cuando se ejecutan simulaciones de Monte Carlo de 10, 100, y 10000 tiradas.\n",
    "\n",
    "Pensar en lo que quiere decir esto:\n",
    "* ¿Cuanto se parecen entre sí dos histogramas de 10 tiradas distintos?\n",
    "* ¿Cuanto se parecen entre sí dos histogramas de 10000 tiradas distintos?\n",
    "* Hemos caracterizado los dados `a` y `b` como tablas de valores y sus probabilidades. Pinta una tabla que haga lo mismo para los valores de la suma de a y b:\n",
    "\n",
    "| 2 | 3 | 4 | 5 | 6 | 7 | 8 | 9 | 10 | 11 | 12 |\n",
    "| - | - | - | - | - | - | - | - | -- | -- | -- |\n",
    "| ? | ? | ? | ? | ? | ? | ? | ? | ? | ? | ? |"
   ]
  }
 ],
 "metadata": {
  "kernelspec": {
   "display_name": "Python 3",
   "language": "python",
   "name": "python3"
  },
  "language_info": {
   "codemirror_mode": {
    "name": "ipython",
    "version": 3
   },
   "file_extension": ".py",
   "mimetype": "text/x-python",
   "name": "python",
   "nbconvert_exporter": "python",
   "pygments_lexer": "ipython3",
   "version": "3.7.3"
  }
 },
 "nbformat": 4,
 "nbformat_minor": 4
}
