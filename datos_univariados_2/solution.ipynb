{
 "cells": [
  {
   "cell_type": "markdown",
   "metadata": {},
   "source": [
    "### Pregunta 1\n",
    "\n",
    "¿Cuánto es el máximo que podemos llegar a pagar en un día por los servidores?"
   ]
  },
  {
   "cell_type": "code",
   "execution_count": 29,
   "metadata": {},
   "outputs": [
    {
     "name": "stdout",
     "output_type": "stream",
     "text": [
      "1740 € pagando un nodo por analista al día.\n"
     ]
    }
   ],
   "source": [
    "\n",
    "def servers_price(num_nodes: int) -> int:\n",
    "    normal_price: int = 130\n",
    "    discounted_price: int = 110\n",
    "    \n",
    "    total = []\n",
    "    \n",
    "    for num in range(1,(num_nodes+1)):\n",
    "        if num % 3 == 0:\n",
    "            total.append(discounted_price)\n",
    "        else:\n",
    "            total.append(normal_price)\n",
    "    \n",
    "    return sum(total)\n",
    "\n",
    "number_of_analysts = 14\n",
    "\n",
    "print(servers_price(num_nodes=number_of_analysts), \"€ pagando un nodo por analista al día.\")"
   ]
  },
  {
   "cell_type": "markdown",
   "metadata": {},
   "source": [
    "### Pregunta 2\n",
    "\n",
    "Pinta un histograma de la distribución de los costes diarios realizando simulaciones de Monte Carlo.\n",
    "\n",
    "¿Cuál es el coste medio por día que esperamos tener que pagar por los servidores, si siempre pagamos todos los servidores que hacen falta en un día dado?"
   ]
  },
  {
   "cell_type": "code",
   "execution_count": null,
   "metadata": {},
   "outputs": [],
   "source": []
  }
 ],
 "metadata": {
  "kernelspec": {
   "display_name": "Python 3",
   "language": "python",
   "name": "python3"
  },
  "language_info": {
   "codemirror_mode": {
    "name": "ipython",
    "version": 3
   },
   "file_extension": ".py",
   "mimetype": "text/x-python",
   "name": "python",
   "nbconvert_exporter": "python",
   "pygments_lexer": "ipython3",
   "version": "3.7.5"
  }
 },
 "nbformat": 4,
 "nbformat_minor": 4
}
