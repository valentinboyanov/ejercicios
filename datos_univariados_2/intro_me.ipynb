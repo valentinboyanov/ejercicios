{
 "cells": [
  {
   "cell_type": "code",
   "execution_count": 21,
   "metadata": {},
   "outputs": [],
   "source": [
    "import numpy as np\n",
    "import pandas\n",
    "import matplotlib.pyplot as plt"
   ]
  },
  {
   "cell_type": "markdown",
   "metadata": {},
   "source": [
    "## Métodos de Monte Carlo\n",
    "\n",
    "Cuando tenemos preguntas sobre procesos, y tenemos modelos de mecanismo de un proceso, podemos usar [métodos de Monte Carlo](https://en.wikipedia.org/wiki/Monte_Carlo_method) para responderlas. Esto es extremadamente potente si ya sabes programar: hay muchas preguntas cuantitativas que son muy fáciles de formular y resolver como un experimento de Monte Carlo, pero muy difíciles de resolver de forma analítica.\n",
    "\n",
    "### Ejemplo introductorio\n",
    "\n",
    "Estamos jugando a cara o cruz con una moneda trucada. La moneda tiene la siguiente distribución de probabilidad:\n",
    "```\n",
    "cara: 0.6\n",
    "cruz: 0.4\n",
    "```\n",
    "\n",
    "Si sale cruz ganas, si sale cara pierdes.\n",
    "\n",
    "##### Pregunta 0\n",
    "\n",
    "**¿Qué proporción de las veces ganas?**\n",
    "\n",
    "Esta respuesta la podemos calcular trivialmente de forma analítica: `0.4`, que es simplemente la proporción de cruces esperada. Pero vamos a calcularla vía un experimento de Monte Carlo para romper mano. \n",
    "\n",
    "Llevamos a cabo \"muchas\" simulaciones de la tirada, y calculamos la proporción de cruces:"
   ]
  },
  {
   "cell_type": "code",
   "execution_count": 22,
   "metadata": {},
   "outputs": [
    {
     "name": "stdout",
     "output_type": "stream",
     "text": [
      "0.40452 error:  0.0045199999999999685\n",
      "0.39876 error:  0.0012400000000000189\n",
      "0.3961 error:  0.0039000000000000146\n"
     ]
    }
   ],
   "source": [
    "def estimate_win_proportion(num_trials: int) -> float:\n",
    "    \"\"\"\n",
    "    cara: 0\n",
    "    cruz: 1\n",
    "    \n",
    "    This simulates num_trials coin tosses and calculates num_cruces / total_tosses\n",
    "    \"\"\"\n",
    "    trials = []\n",
    "    \n",
    "    for i in range(num_trials):\n",
    "        if np.random.random() <= 0.4:\n",
    "            trials.append(1)\n",
    "        else:\n",
    "            trials.append(0)\n",
    "            \n",
    "    return sum(trials) / len(trials)\n",
    "\n",
    "for i in range(3):\n",
    "    proportion_estimate = estimate_win_proportion(50000)\n",
    "    print(proportion_estimate, \"error: \", abs(0.4 - proportion_estimate))"
   ]
  },
  {
   "cell_type": "markdown",
   "metadata": {},
   "source": [
    "Vemos que, efectivamente, la simulación de Monte Carlo nos da respuestas cercanas a la respuesta exacta, aunque en este caso sería más fácil calcular la proporción directamente."
   ]
  },
  {
   "cell_type": "markdown",
   "metadata": {},
   "source": [
    "##### Pregunta 1\n",
    "\n",
    "Usamos la moneda en un juego con las siguientes reglas: la moneda se tira 2 veces, y dependiendo del número de cruces ganas (o pierdes) las siguientes cantidades:\n",
    "\n",
    "| numero cruces | euros |\n",
    "| ------------- | ----- |\n",
    "| 0 | -2 |\n",
    "| 1 | 0.5 |\n",
    "| 2 | 1 |\n",
    "\n",
    "**¿Cuál es [la media](https://en.wikipedia.org/wiki/Expected_value) de euros ganados (o perdidos) por partida si juegas a este juego con la moneda trucada?**"
   ]
  },
  {
   "cell_type": "markdown",
   "metadata": {},
   "source": [
    "Esto también lo podemos calcular de forma analítica usando la [distribución binomial](https://en.wikipedia.org/wiki/Binomial_distribution), pero en este caso ya tenemos que saber más matemáticas:\n",
    "\n",
    "$$\n",
    "expected\\_euros = -2 \\cdot \\binom{2}{0}0.6^{2} + 0.5 \\cdot \\binom{2}{1} 0.4 \\cdot 0.6 + \\binom{2}{2} 0.4 ^ 2\n",
    "$$"
   ]
  },
  {
   "cell_type": "code",
   "execution_count": 23,
   "metadata": {},
   "outputs": [
    {
     "name": "stdout",
     "output_type": "stream",
     "text": [
      "-0.31999999999999995\n"
     ]
    }
   ],
   "source": [
    "exact_expected_euros = -2 * 1 * (0.6 ** 2) + 0.5 * 2 * (0.4 * 0.6) + 1 * 1 * (0.4 ** 2)\n",
    "print(exact_expected_euros)"
   ]
  },
  {
   "cell_type": "markdown",
   "metadata": {},
   "source": [
    "Si sabemos programar pero no usamos mucho las matemáticas en el día a día, igual es más fácil simularlo directamente que hacer el cálculo analítico:"
   ]
  },
  {
   "cell_type": "code",
   "execution_count": 24,
   "metadata": {},
   "outputs": [
    {
     "name": "stdout",
     "output_type": "stream",
     "text": [
      "-0.30185 error:  0.018149999999999944\n",
      "-0.3164 error:  0.0035999999999999366\n",
      "-0.32208 error:  0.0020800000000000263\n"
     ]
    }
   ],
   "source": [
    "def one_game() -> int:\n",
    "    \"\"\"\n",
    "    This simulates a single game: a coin is tossed twice, the number of cruces is returned.\n",
    "    \"\"\"\n",
    "    cruz_count = 0\n",
    "    \n",
    "    for i in range(2):\n",
    "        if np.random.random() <= 0.4:\n",
    "            cruz_count += 1\n",
    "    return cruz_count\n",
    "\n",
    "def average_euros(num_trials: int) -> float:\n",
    "    \"\"\"\n",
    "    This simulates num_trials games and calculates total_euros / num_trials\n",
    "    \"\"\"\n",
    "    \n",
    "    euros = []\n",
    "    for i in range(num_trials):\n",
    "        cruz_count = one_game()\n",
    "        if cruz_count == 0:\n",
    "            euros.append(-2)\n",
    "        elif cruz_count == 1:\n",
    "            euros.append(0.5)\n",
    "        else:\n",
    "            euros.append(1)\n",
    "            \n",
    "    return sum(euros) / len(euros)\n",
    "    \n",
    "    \n",
    "for i in range(3):\n",
    "    estimated_expected_euros = average_euros(50000)\n",
    "    print(estimated_expected_euros, \"error: \", abs(estimated_expected_euros - exact_expected_euros))\n",
    "    "
   ]
  },
  {
   "cell_type": "markdown",
   "metadata": {},
   "source": [
    "### Preguntas de calentamiento\n",
    "\n",
    "Consideramos un juego con 2 dados de 6 caras: el dado `a` es justo, el dado `b` tiene un sesgo que hace que aparezca más veces el 6 que los otros números, la tabla siguiente da las probabilidades:\n",
    "\n",
    "| dado | 1 | 2 | 3 | 4 | 5 | 6 |\n",
    "| ---- | - | - | - | - | - | - |\n",
    "| a | 1/6 | 1/6 | 1/6 | 1/6 | 1/6 | 1/6 |\n",
    "| b | 1/12 | 1/12 | 1/12 | 1/12 | 1/12 | 7/12 |\n",
    "\n",
    "Consideramos la suma resultante de tirar `a` y `b` y sumarlos.\n",
    "\n",
    "#### Pregunta 1\n",
    "\n",
    "Jugamos a un juego en el que el jugador gana si saca más de un 8 y pierde si saca menos.\n",
    "\n",
    "**¿Qué proporción de las veces esperas ganar si juegas a este juego con los dados a y b?**"
   ]
  },
  {
   "cell_type": "code",
   "execution_count": 25,
   "metadata": {},
   "outputs": [
    {
     "name": "stdout",
     "output_type": "stream",
     "text": [
      "0.4776\n",
      "0.4832\n",
      "0.4698\n"
     ]
    }
   ],
   "source": [
    "def dice_a() -> int:\n",
    "    random_number = np.random.random()\n",
    "    \n",
    "    if random_number <= 1/6:\n",
    "        return 1\n",
    "    \n",
    "    if random_number <= 2/6:\n",
    "        return 2\n",
    "    \n",
    "    if random_number <= 3/6:\n",
    "        return 3\n",
    "    \n",
    "    if random_number <= 4/6:\n",
    "        return 4\n",
    "    \n",
    "    if random_number <= 5/6:\n",
    "        return 5\n",
    "    \n",
    "    return 6\n",
    "\n",
    "def dice_b() -> int:\n",
    "    random_number = np.random.random()\n",
    "    \n",
    "    if random_number <= 1/12:\n",
    "        return 1\n",
    "    \n",
    "    if random_number <= 2/12:\n",
    "        return 2\n",
    "    \n",
    "    if random_number <= 3/12:\n",
    "        return 3\n",
    "    \n",
    "    if random_number <= 4/12:\n",
    "        return 4\n",
    "    \n",
    "    if random_number <= 5/12:\n",
    "        return 5\n",
    "    \n",
    "    return 6\n",
    "\n",
    "def hope_to_win(num_trials: int) -> float:\n",
    "    \n",
    "    wins = []\n",
    "    for i in range(num_trials):\n",
    "        result = dice_a() + dice_b()\n",
    "        if result > 8:\n",
    "            wins.append(1)\n",
    "        else:\n",
    "            wins.append(0)\n",
    "            \n",
    "    return sum(wins) / len(wins)\n",
    "\n",
    "\n",
    "for i in range(3):\n",
    "    estimated_hope_to_win = hope_to_win(5000)\n",
    "    print(estimated_hope_to_win)\n"
   ]
  },
  {
   "cell_type": "markdown",
   "metadata": {},
   "source": [
    "#### Pregunta 2\n",
    "\n",
    "Pintar histogramas del resultado de las sumas de estos dados cuando se ejecutan simulaciones de Monte Carlo de 10, 100, y 10000 tiradas.\n",
    "\n",
    "Pensar en lo que quiere decir esto:\n",
    "* ¿Cuanto se parecen entre sí dos histogramas de 10 tiradas distintos?\n",
    "* ¿Cuanto se parecen entre sí dos histogramas de 10000 tiradas distintos?\n",
    "* Hemos caracterizado los dados `a` y `b` como tablas de valores y sus probabilidades. Pinta una tabla que haga lo mismo para los valores de la suma de a y b:\n",
    "\n",
    "| 2 | 3 | 4 | 5 | 6 | 7 | 8 | 9 | 10 | 11 | 12 |\n",
    "| - | - | - | - | - | - | - | - | -- | -- | -- |\n",
    "| ? | ? | ? | ? | ? | ? | ? | ? | ? | ? | ? |"
   ]
  },
  {
   "cell_type": "code",
   "execution_count": 42,
   "metadata": {},
   "outputs": [
    {
     "data": {
      "image/png": "[encoded data removed]",
      "text/plain": [
       "<Figure size 936x576 with 5 Axes>"
      ]
     },
     "metadata": {
      "needs_background": "light"
     },
     "output_type": "display_data"
    },
    {
     "name": "stdout",
     "output_type": "stream",
     "text": [
      "1 ->  0.0\n",
      "2 ->  0.0146\n",
      "3 ->  0.0264\n",
      "4 ->  0.044\n",
      "5 ->  0.0524\n",
      "6 ->  0.0708\n",
      "7 ->  0.175\n",
      "8 ->  0.1582\n",
      "9 ->  0.1412\n",
      "10 ->  0.1244\n",
      "11 ->  0.104\n",
      "12 ->  0.089\n"
     ]
    }
   ],
   "source": [
    "def game(num_trials: int) -> float:\n",
    "    results = []\n",
    "\n",
    "    for i in range(num_trials):\n",
    "        results.append(dice_a() + dice_b())\n",
    "        \n",
    "    return results\n",
    "\n",
    "results = []\n",
    "results.append(game(10))\n",
    "results.append(game(10))\n",
    "results.append(game(100))\n",
    "results.append(game(10000))\n",
    "results.append(game(10000))\n",
    "#results.append(game(1000000))\n",
    "\n",
    "figure, axes = plt.subplots(nrows=5, ncols=1, figsize=(13, 8))\n",
    "\n",
    "for i, axe in enumerate(axes.flatten()):\n",
    "    \n",
    "    axe.hist(results[i], bins = 12)\n",
    "\n",
    "figure.tight_layout()\n",
    "\n",
    "_ = plt.show()\n",
    "\n",
    "\n",
    "def get_num_elements(elements: list, value: int) -> int:\n",
    "    num = []\n",
    "    for element in elements:\n",
    "        if element == value:\n",
    "            num.append(1)\n",
    "    \n",
    "    return len(num)\n",
    "\n",
    "sum_results = game(5000)\n",
    "\n",
    "print (\"1 -> \", get_num_elements(sum_results, 1)/5000)\n",
    "print (\"2 -> \", get_num_elements(sum_results, 2)/5000)\n",
    "print (\"3 -> \", get_num_elements(sum_results, 3)/5000)\n",
    "print (\"4 -> \", get_num_elements(sum_results, 4)/5000)\n",
    "print (\"5 -> \", get_num_elements(sum_results, 5)/5000)\n",
    "print (\"6 -> \", get_num_elements(sum_results, 6)/5000)\n",
    "print (\"7 -> \", get_num_elements(sum_results, 7)/5000)\n",
    "print (\"8 -> \", get_num_elements(sum_results, 8)/5000)\n",
    "print (\"9 -> \", get_num_elements(sum_results, 9)/5000)\n",
    "print (\"10 -> \", get_num_elements(sum_results, 10)/5000)\n",
    "print (\"11 -> \", get_num_elements(sum_results, 11)/5000)\n",
    "print (\"12 -> \", get_num_elements(sum_results, 12)/5000)"
   ]
  },
  {
   "cell_type": "code",
   "execution_count": null,
   "metadata": {},
   "outputs": [],
   "source": []
  }
 ],
 "metadata": {
  "kernelspec": {
   "display_name": "Python 3",
   "language": "python",
   "name": "python3"
  },
  "language_info": {
   "codemirror_mode": {
    "name": "ipython",
    "version": 3
   },
   "file_extension": ".py",
   "mimetype": "text/x-python",
   "name": "python",
   "nbconvert_exporter": "python",
   "pygments_lexer": "ipython3",
   "version": "3.7.5"
  }
 },
 "nbformat": 4,
 "nbformat_minor": 4
}
